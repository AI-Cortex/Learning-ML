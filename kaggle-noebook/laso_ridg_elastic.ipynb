{
 "cells": [
  {
   "cell_type": "code",
   "execution_count": 11,
   "metadata": {},
   "outputs": [],
   "source": [
    "import pandas as pd\n",
    "import numpy as np\n",
    "from sklearn.linear_model import ridge_regression, Ridge, Lasso, ElasticNet\n",
    "from sklearn.model_selection import train_test_split\n",
    "from sklearn.datasets import make_circles\n",
    "import matplotlib.pyplot as plt\n",
    "import seaborn as sns\n",
    "from sklearn.metrics import r2_score\n",
    "from sklearn.datasets import make_regression"
   ]
  },
  {
   "cell_type": "code",
   "execution_count": 61,
   "metadata": {},
   "outputs": [],
   "source": [
    "X, y = make_regression(n_samples=1000, n_features=10, n_informative=5, noise=0.1, random_state=42)\n",
    "X_train, X_test, y_train, y_test = train_test_split(X, y, random_state=42, test_size=0.2)\n"
   ]
  },
  {
   "cell_type": "code",
   "execution_count": 62,
   "metadata": {},
   "outputs": [],
   "source": [
    "def model_evaluation(model, X_test=X_test, y_test=y_test):\n",
    "    y_pred = model.predict(X_test)\n",
    "    print(f'r2 : {r2_score(y_test, y_pred)}')\n",
    "    print(f'coef : {model.coef_}')"
   ]
  },
  {
   "cell_type": "code",
   "execution_count": 63,
   "metadata": {},
   "outputs": [],
   "source": [
    "lasso_model = Lasso()\n",
    "ridge_model = Ridge()\n",
    "elastic_model = ElasticNet(alpha=0.1, l1_ratio=0.5)"
   ]
  },
  {
   "cell_type": "code",
   "execution_count": 64,
   "metadata": {},
   "outputs": [
    {
     "name": "stdout",
     "output_type": "stream",
     "text": [
      "r2 : 0.998745614632746\n",
      "coef : [57.34530698  0.         -0.         31.1922262   6.08132222  0.\n",
      "  9.34258805 -0.         -0.          8.37692345]\n"
     ]
    }
   ],
   "source": [
    "lasso_model.fit(X_train, y_train)\n",
    "model_evaluation(lasso_model)\n"
   ]
  },
  {
   "cell_type": "code",
   "execution_count": 65,
   "metadata": {},
   "outputs": [
    {
     "name": "stdout",
     "output_type": "stream",
     "text": [
      "r2 : 0.9999967035126857\n",
      "coef : [ 5.82215862e+01 -3.92356447e-03 -7.18707053e-04  3.20876230e+01\n",
      "  7.16694822e+00  5.91613842e-03  1.02898099e+01 -3.57031262e-03\n",
      " -6.38288684e-03  9.41769378e+00]\n"
     ]
    }
   ],
   "source": [
    "ridge_model.fit(X_train, y_train)\n",
    "model_evaluation(ridge_model)"
   ]
  },
  {
   "cell_type": "code",
   "execution_count": 66,
   "metadata": {},
   "outputs": [
    {
     "name": "stdout",
     "output_type": "stream",
     "text": [
      "r2 : 0.997785183812461\n",
      "coef : [ 5.55898678e+01  0.00000000e+00 -0.00000000e+00  3.05992218e+01\n",
      "  6.76175674e+00  7.03609732e-02  9.83273987e+00 -0.00000000e+00\n",
      " -1.53107510e-02  8.91154401e+00]\n"
     ]
    }
   ],
   "source": [
    "elastic_model.fit(X_train, y_train)\n",
    "model_evaluation(elastic_model)"
   ]
  },
  {
   "cell_type": "code",
   "execution_count": null,
   "metadata": {},
   "outputs": [],
   "source": []
  },
  {
   "cell_type": "code",
   "execution_count": null,
   "metadata": {},
   "outputs": [],
   "source": []
  }
 ],
 "metadata": {
  "kernelspec": {
   "display_name": "PY_3_12_2",
   "language": "python",
   "name": "python3"
  },
  "language_info": {
   "codemirror_mode": {
    "name": "ipython",
    "version": 3
   },
   "file_extension": ".py",
   "mimetype": "text/x-python",
   "name": "python",
   "nbconvert_exporter": "python",
   "pygments_lexer": "ipython3",
   "version": "3.12.2"
  }
 },
 "nbformat": 4,
 "nbformat_minor": 2
}
