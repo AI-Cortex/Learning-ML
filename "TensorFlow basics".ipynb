{
 "cells": [
  {
   "cell_type": "markdown",
   "id": "c88a57a1",
   "metadata": {
    "papermill": {
     "duration": 0.008768,
     "end_time": "2024-11-12T10:47:00.248177",
     "exception": false,
     "start_time": "2024-11-12T10:47:00.239409",
     "status": "completed"
    },
    "tags": []
   },
   "source": [
    "### 📚 Importing Libraries\r\n",
    "\r\n",
    "In this section, we import the essential libraries for our project. \r\n",
    "\r\n",
    "- `TensorFlow` is used to build and train deep learning models.\r\n",
    "- `Pandas` helps in data processing and analysis.\r\n",
    "\r\n",
    "Let's get started! 🚀\r\n"
   ]
  },
  {
   "cell_type": "code",
   "execution_count": 1,
   "id": "b7fa6ef3",
   "metadata": {
    "_cell_guid": "b1076dfc-b9ad-4769-8c92-a6c4dae69d19",
    "_uuid": "8f2839f25d086af736a60e9eeb907d3b93b6e0e5",
    "execution": {
     "iopub.execute_input": "2024-11-12T10:47:00.266662Z",
     "iopub.status.busy": "2024-11-12T10:47:00.266101Z",
     "iopub.status.idle": "2024-11-12T10:47:15.407091Z",
     "shell.execute_reply": "2024-11-12T10:47:15.405862Z"
    },
    "papermill": {
     "duration": 15.153216,
     "end_time": "2024-11-12T10:47:15.409717",
     "exception": false,
     "start_time": "2024-11-12T10:47:00.256501",
     "status": "completed"
    },
    "tags": []
   },
   "outputs": [],
   "source": [
    "import tensorflow as tf\n",
    "import pandas as pd"
   ]
  },
  {
   "cell_type": "markdown",
   "id": "09c55834",
   "metadata": {
    "papermill": {
     "duration": 0.008025,
     "end_time": "2024-11-12T10:47:15.426218",
     "exception": false,
     "start_time": "2024-11-12T10:47:15.418193",
     "status": "completed"
    },
    "tags": []
   },
   "source": [
    "### 🔢 Defining and Exploring Tensors\r\n",
    "\r\n",
    "In this cell, we define various types of tensors using `tf.constant` in TensorFlow:\r\n",
    "\r\n",
    "- **Scalar**: A single constant value.\r\n",
    "- **Vector**: A one-dimensional array.\r\n",
    "- **Matrix**: A two-dimensional array.\r\n",
    "- **Higher-Dimensional Tensor**: A 3D tensor to represent more complex data.\r\n",
    "\r\n",
    "We then create a function `f` that retrieves different properties of each tensor, such as:\r\n",
    "\r\n",
    "- **Shape** 🧩: The dimensions of the tensor.\r\n",
    "- **Rank** 📏: The number of dimensions.\r\n",
    "- **NDIM** 🧮: Another way to describe the dimensions.\r\n",
    "- **Size** 📐: The total number of elements.\r\n",
    "- **DType** 🏷️: The data type of the tensor elements.\r\n",
    "\r\n",
    "Finally, we display these properties in a DataFrame for easy comparison. 🧐\r\n",
    "\r\n"
   ]
  },
  {
   "cell_type": "code",
   "execution_count": 2,
   "id": "5c0b4bc1",
   "metadata": {
    "execution": {
     "iopub.execute_input": "2024-11-12T10:47:15.446044Z",
     "iopub.status.busy": "2024-11-12T10:47:15.444820Z",
     "iopub.status.idle": "2024-11-12T10:47:15.512110Z",
     "shell.execute_reply": "2024-11-12T10:47:15.510665Z"
    },
    "papermill": {
     "duration": 0.080145,
     "end_time": "2024-11-12T10:47:15.515240",
     "exception": false,
     "start_time": "2024-11-12T10:47:15.435095",
     "status": "completed"
    },
    "tags": []
   },
   "outputs": [
    {
     "data": {
      "text/html": [
       "<div>\n",
       "<style scoped>\n",
       "    .dataframe tbody tr th:only-of-type {\n",
       "        vertical-align: middle;\n",
       "    }\n",
       "\n",
       "    .dataframe tbody tr th {\n",
       "        vertical-align: top;\n",
       "    }\n",
       "\n",
       "    .dataframe thead th {\n",
       "        text-align: right;\n",
       "    }\n",
       "</style>\n",
       "<table border=\"1\" class=\"dataframe\">\n",
       "  <thead>\n",
       "    <tr style=\"text-align: right;\">\n",
       "      <th></th>\n",
       "      <th>shape</th>\n",
       "      <th>rank</th>\n",
       "      <th>ndim</th>\n",
       "      <th>size</th>\n",
       "      <th>dtype</th>\n",
       "    </tr>\n",
       "  </thead>\n",
       "  <tbody>\n",
       "    <tr>\n",
       "      <th>0</th>\n",
       "      <td>()</td>\n",
       "      <td>0</td>\n",
       "      <td>0</td>\n",
       "      <td>1</td>\n",
       "      <td>&lt;dtype: 'int32'&gt;</td>\n",
       "    </tr>\n",
       "    <tr>\n",
       "      <th>1</th>\n",
       "      <td>(5)</td>\n",
       "      <td>1</td>\n",
       "      <td>1</td>\n",
       "      <td>5</td>\n",
       "      <td>&lt;dtype: 'float16'&gt;</td>\n",
       "    </tr>\n",
       "    <tr>\n",
       "      <th>2</th>\n",
       "      <td>(3, 3)</td>\n",
       "      <td>2</td>\n",
       "      <td>2</td>\n",
       "      <td>9</td>\n",
       "      <td>&lt;dtype: 'int32'&gt;</td>\n",
       "    </tr>\n",
       "    <tr>\n",
       "      <th>3</th>\n",
       "      <td>(3, 2, 3)</td>\n",
       "      <td>3</td>\n",
       "      <td>3</td>\n",
       "      <td>18</td>\n",
       "      <td>&lt;dtype: 'int32'&gt;</td>\n",
       "    </tr>\n",
       "  </tbody>\n",
       "</table>\n",
       "</div>"
      ],
      "text/plain": [
       "       shape  rank  ndim  size               dtype\n",
       "0         ()     0     0     1    <dtype: 'int32'>\n",
       "1        (5)     1     1     5  <dtype: 'float16'>\n",
       "2     (3, 3)     2     2     9    <dtype: 'int32'>\n",
       "3  (3, 2, 3)     3     3    18    <dtype: 'int32'>"
      ]
     },
     "execution_count": 2,
     "metadata": {},
     "output_type": "execute_result"
    }
   ],
   "source": [
    "scaler = tf.constant(1)\n",
    "vector = tf.constant([1, 2, 3, 4, 5], dtype=tf.float16)\n",
    "metrix = tf.constant([[1, 2, 3],\n",
    "                      [4, 5, 6],\n",
    "                      [7, 8, 9]], name='metrix')\n",
    "\n",
    "tensor = tf.constant(\n",
    "    [\n",
    "        [\n",
    "            [1, 2, 3],\n",
    "            [4, 5, 6],\n",
    "        ],\n",
    "        [\n",
    "            [7, 8, 9],\n",
    "            [10, 11, 12],\n",
    "        ],\n",
    "        [\n",
    "            [13, 14, 15],\n",
    "            [16, 17, 18],\n",
    "        ],\n",
    "    ]\n",
    ")\n",
    "\n",
    "f = lambda x: [x.shape, tf.rank(x).numpy(), x.ndim, tf.size(x).numpy(), x.dtype]\n",
    "\n",
    "lst = [f(scaler), f(vector), f(metrix), f(tensor)]\n",
    "pd.DataFrame(lst, columns=['shape','rank', 'ndim' , 'size', 'dtype'])"
   ]
  },
  {
   "cell_type": "markdown",
   "id": "7568f0b0",
   "metadata": {
    "papermill": {
     "duration": 0.009226,
     "end_time": "2024-11-12T10:47:15.546354",
     "exception": false,
     "start_time": "2024-11-12T10:47:15.537128",
     "status": "completed"
    },
    "tags": []
   },
   "source": [
    "### 🔄 Constant vs Variable in TensorFlow\r\n",
    "\r\n",
    "In this cell, we explore the difference between `tf.constant` and `tf.Variable`:\r\n",
    "\r\n",
    "- **`tf.constant`**: Defines an immutable tensor, meaning its values cannot be changed after creation.\r\n",
    "- **`tf.Variable`**: Defines a mutable tensor, which can be updated during the program's execution.\r\n",
    "\r\n",
    "By printing `v1` and `v2`, we can see both tensors and understand how they differ in behavior. 📊\r\n",
    "\r\n"
   ]
  },
  {
   "cell_type": "code",
   "execution_count": 3,
   "id": "0441b462",
   "metadata": {
    "execution": {
     "iopub.execute_input": "2024-11-12T10:47:15.565308Z",
     "iopub.status.busy": "2024-11-12T10:47:15.564873Z",
     "iopub.status.idle": "2024-11-12T10:47:15.584592Z",
     "shell.execute_reply": "2024-11-12T10:47:15.583450Z"
    },
    "papermill": {
     "duration": 0.032171,
     "end_time": "2024-11-12T10:47:15.587176",
     "exception": false,
     "start_time": "2024-11-12T10:47:15.555005",
     "status": "completed"
    },
    "tags": []
   },
   "outputs": [
    {
     "data": {
      "text/plain": [
       "(<tf.Tensor: shape=(4,), dtype=int32, numpy=array([1, 2, 3, 4], dtype=int32)>,\n",
       " <tf.Variable 'Variable:0' shape=(4,) dtype=int32, numpy=array([1, 2, 3, 4], dtype=int32)>)"
      ]
     },
     "execution_count": 3,
     "metadata": {},
     "output_type": "execute_result"
    }
   ],
   "source": [
    "v1 = tf.constant([1, 2, 3, 4])\n",
    "v2 = tf.Variable([1, 2, 3, 4])\n",
    "v1, v2"
   ]
  },
  {
   "cell_type": "markdown",
   "id": "099f91cf",
   "metadata": {
    "papermill": {
     "duration": 0.008382,
     "end_time": "2024-11-12T10:47:15.604765",
     "exception": false,
     "start_time": "2024-11-12T10:47:15.596383",
     "status": "completed"
    },
    "tags": []
   },
   "source": [
    "### ✏️ Modifying Elements in a TensorFlow Variable\r\n",
    "\r\n",
    "Here, we demonstrate how to modify a specific element in a `tf.Variable` tensor. \r\n",
    "\r\n",
    "- Using the `assign` method, we update the second element of `v2` to 23.\r\n",
    "- This highlights the mutability of `tf.Variable`, allowing for in-place updates, which is not possible with `tf.constant`.\r\n",
    "\r\n",
    "Let's see the updated `v2` tensor below. 🔄\r\n",
    "\r\n"
   ]
  },
  {
   "cell_type": "code",
   "execution_count": 4,
   "id": "d3dc917d",
   "metadata": {
    "execution": {
     "iopub.execute_input": "2024-11-12T10:47:15.623626Z",
     "iopub.status.busy": "2024-11-12T10:47:15.623196Z",
     "iopub.status.idle": "2024-11-12T10:47:15.642808Z",
     "shell.execute_reply": "2024-11-12T10:47:15.641625Z"
    },
    "papermill": {
     "duration": 0.032063,
     "end_time": "2024-11-12T10:47:15.645373",
     "exception": false,
     "start_time": "2024-11-12T10:47:15.613310",
     "status": "completed"
    },
    "tags": []
   },
   "outputs": [
    {
     "data": {
      "text/plain": [
       "<tf.Variable 'Variable:0' shape=(4,) dtype=int32, numpy=array([ 1, 23,  3,  4], dtype=int32)>"
      ]
     },
     "execution_count": 4,
     "metadata": {},
     "output_type": "execute_result"
    }
   ],
   "source": [
    "v2[1].assign(23)\n",
    "v2"
   ]
  },
  {
   "cell_type": "markdown",
   "id": "fa3913de",
   "metadata": {
    "papermill": {
     "duration": 0.008308,
     "end_time": "2024-11-12T10:47:15.662547",
     "exception": false,
     "start_time": "2024-11-12T10:47:15.654239",
     "status": "completed"
    },
    "tags": []
   },
   "source": [
    "### 🔍 Finding Max and Min Elements in a Tensor\r\n",
    "\r\n",
    "In this cell, we use `tf.argmax` and `tf.argmin` to find the indices of the maximum and minimum values in the `v2` tensor. \r\n",
    "\r\n",
    "- **`tf.argmax(v2)`** returns the index of the maximum value.\r\n",
    "- **`tf.argmin(v2)`** returns the index of the minimum value.\r\n",
    "\r\n",
    "We then use these indices to retrieve the actual maximum and minimum values from `v2`. This is useful for identifying extreme values in a tensor. 📈📉\r\n",
    "\r\n"
   ]
  },
  {
   "cell_type": "code",
   "execution_count": 5,
   "id": "b9cb3f44",
   "metadata": {
    "execution": {
     "iopub.execute_input": "2024-11-12T10:47:15.681643Z",
     "iopub.status.busy": "2024-11-12T10:47:15.681210Z",
     "iopub.status.idle": "2024-11-12T10:47:15.703003Z",
     "shell.execute_reply": "2024-11-12T10:47:15.701755Z"
    },
    "papermill": {
     "duration": 0.034324,
     "end_time": "2024-11-12T10:47:15.705556",
     "exception": false,
     "start_time": "2024-11-12T10:47:15.671232",
     "status": "completed"
    },
    "tags": []
   },
   "outputs": [
    {
     "data": {
      "text/plain": [
       "(<tf.Tensor: shape=(), dtype=int32, numpy=23>,\n",
       " <tf.Tensor: shape=(), dtype=int32, numpy=1>)"
      ]
     },
     "execution_count": 5,
     "metadata": {},
     "output_type": "execute_result"
    }
   ],
   "source": [
    "max_index = tf.argmax(v2)\n",
    "min_index = tf.argmin(v2)\n",
    "v2[max_index], v2[min_index]"
   ]
  },
  {
   "cell_type": "markdown",
   "id": "f358f36a",
   "metadata": {
    "papermill": {
     "duration": 0.008517,
     "end_time": "2024-11-12T10:47:15.722944",
     "exception": false,
     "start_time": "2024-11-12T10:47:15.714427",
     "status": "completed"
    },
    "tags": []
   },
   "source": [
    "### 🎲 Generating Random Numbers with TensorFlow and Using Seed for Reproducibility\r\n",
    "\r\n",
    "In these cells, we demonstrate how to generate random numbers using TensorFlow and the concept of *seeding* to ensure reproducibility.\r\n",
    "\r\n",
    "1. **Using `tf.random.Generator`**: \r\n",
    "   - We create a random generator with a specific seed and generate random values with a normal distribution.\r\n",
    "\r\n",
    "2. **Using `tf.random.set_seed`**: \r\n",
    "   - This sets the seed for all random operations in TensorFlow, ensuring that subsequent random numbers are reproducible.\r\n",
    "   - We generate a random 3x3 integer array with values between 0 and 100.\r\n",
    "\r\n",
    "3. **Reusing `tf.random.Generator` with Seed**:\r\n",
    "   - We use the generator with a seed again to create a random integer tensor.\r\n",
    "   \r\n",
    "Setting a seed allows us to achieve the same random output each time we run the code, which is helpful for debugging and consistency. 🔒\r\n",
    "\r\n"
   ]
  },
  {
   "cell_type": "code",
   "execution_count": 6,
   "id": "30e71619",
   "metadata": {
    "execution": {
     "iopub.execute_input": "2024-11-12T10:47:15.742699Z",
     "iopub.status.busy": "2024-11-12T10:47:15.741894Z",
     "iopub.status.idle": "2024-11-12T10:47:15.783433Z",
     "shell.execute_reply": "2024-11-12T10:47:15.782171Z"
    },
    "papermill": {
     "duration": 0.054322,
     "end_time": "2024-11-12T10:47:15.786143",
     "exception": false,
     "start_time": "2024-11-12T10:47:15.731821",
     "status": "completed"
    },
    "tags": []
   },
   "outputs": [
    {
     "data": {
      "text/plain": [
       "<tf.Tensor: shape=(3, 3), dtype=float32, numpy=\n",
       "array([[-0.7565803 , -0.06854702,  0.07595026],\n",
       "       [-1.2573844 , -0.23193763, -1.8107855 ],\n",
       "       [ 0.09988727, -0.50998646, -0.7535805 ]], dtype=float32)>"
      ]
     },
     "execution_count": 6,
     "metadata": {},
     "output_type": "execute_result"
    }
   ],
   "source": [
    "gen = tf.random.Generator.from_seed(42)\n",
    "gen.normal((3,3))"
   ]
  },
  {
   "cell_type": "code",
   "execution_count": 7,
   "id": "2b6ee3c5",
   "metadata": {
    "execution": {
     "iopub.execute_input": "2024-11-12T10:47:15.806778Z",
     "iopub.status.busy": "2024-11-12T10:47:15.805698Z",
     "iopub.status.idle": "2024-11-12T10:47:15.818207Z",
     "shell.execute_reply": "2024-11-12T10:47:15.816998Z"
    },
    "papermill": {
     "duration": 0.025535,
     "end_time": "2024-11-12T10:47:15.820693",
     "exception": false,
     "start_time": "2024-11-12T10:47:15.795158",
     "status": "completed"
    },
    "tags": []
   },
   "outputs": [
    {
     "data": {
      "text/plain": [
       "<tf.Tensor: shape=(3, 3), dtype=int32, numpy=\n",
       "array([[33, 38, 30],\n",
       "       [74,  8, 41],\n",
       "       [53, 73, 42]], dtype=int32)>"
      ]
     },
     "execution_count": 7,
     "metadata": {},
     "output_type": "execute_result"
    }
   ],
   "source": [
    "tf.random.set_seed(42)\n",
    "tf.random.uniform((3, 3),minval=0, maxval=100, dtype=tf.int32, seed=42)"
   ]
  },
  {
   "cell_type": "code",
   "execution_count": 8,
   "id": "ec7c2a1c",
   "metadata": {
    "execution": {
     "iopub.execute_input": "2024-11-12T10:47:15.840598Z",
     "iopub.status.busy": "2024-11-12T10:47:15.840167Z",
     "iopub.status.idle": "2024-11-12T10:47:15.864683Z",
     "shell.execute_reply": "2024-11-12T10:47:15.863212Z"
    },
    "papermill": {
     "duration": 0.037488,
     "end_time": "2024-11-12T10:47:15.867276",
     "exception": false,
     "start_time": "2024-11-12T10:47:15.829788",
     "status": "completed"
    },
    "tags": []
   },
   "outputs": [
    {
     "data": {
      "text/plain": [
       "<tf.Tensor: shape=(3, 3), dtype=int32, numpy=\n",
       "array([[ 3, 97, 26],\n",
       "       [98, 26, 81],\n",
       "       [71, 27, 42]], dtype=int32)>"
      ]
     },
     "execution_count": 8,
     "metadata": {},
     "output_type": "execute_result"
    }
   ],
   "source": [
    "gen = tf.random.Generator.from_seed(42)\n",
    "gen.uniform((3, 3), minval=0, maxval=100, dtype=tf.int32)"
   ]
  },
  {
   "cell_type": "markdown",
   "id": "0bab5aad",
   "metadata": {
    "papermill": {
     "duration": 0.008797,
     "end_time": "2024-11-12T10:47:15.885698",
     "exception": false,
     "start_time": "2024-11-12T10:47:15.876901",
     "status": "completed"
    },
    "tags": []
   },
   "source": [
    "**Converting `metrix` to NumPy**:\n",
    "   - We use the `.numpy()` method to convert the `metrix` tensor into a NumPy array, which is helpful when working with NumPy operations."
   ]
  },
  {
   "cell_type": "code",
   "execution_count": 9,
   "id": "d79ee6b6",
   "metadata": {
    "execution": {
     "iopub.execute_input": "2024-11-12T10:47:15.905801Z",
     "iopub.status.busy": "2024-11-12T10:47:15.905310Z",
     "iopub.status.idle": "2024-11-12T10:47:15.913048Z",
     "shell.execute_reply": "2024-11-12T10:47:15.911741Z"
    },
    "papermill": {
     "duration": 0.020624,
     "end_time": "2024-11-12T10:47:15.915499",
     "exception": false,
     "start_time": "2024-11-12T10:47:15.894875",
     "status": "completed"
    },
    "tags": []
   },
   "outputs": [
    {
     "data": {
      "text/plain": [
       "array([[1, 2, 3],\n",
       "       [4, 5, 6],\n",
       "       [7, 8, 9]], dtype=int32)"
      ]
     },
     "execution_count": 9,
     "metadata": {},
     "output_type": "execute_result"
    }
   ],
   "source": [
    "metrix.numpy()"
   ]
  },
  {
   "cell_type": "markdown",
   "id": "a0ff3ef0",
   "metadata": {
    "papermill": {
     "duration": 0.009046,
     "end_time": "2024-11-12T10:47:15.933928",
     "exception": false,
     "start_time": "2024-11-12T10:47:15.924882",
     "status": "completed"
    },
    "tags": []
   },
   "source": [
    "**Shuffling Rows with `tf.random.shuffle`**:\n",
    "   - We apply `tf.random.shuffle` to randomly shuffle the rows of the `metrix` tensor.\n",
    "   - By setting a seed, we ensure reproducibility, meaning the shuffling will be the same each time we run the code.\n",
    "\n",
    "These steps help in understanding data transformations between TensorFlow and NumPy, and how we can control randomness in TensorFlow. 🎲\n"
   ]
  },
  {
   "cell_type": "code",
   "execution_count": 10,
   "id": "c32b8154",
   "metadata": {
    "execution": {
     "iopub.execute_input": "2024-11-12T10:47:15.955026Z",
     "iopub.status.busy": "2024-11-12T10:47:15.954481Z",
     "iopub.status.idle": "2024-11-12T10:47:15.963607Z",
     "shell.execute_reply": "2024-11-12T10:47:15.962335Z"
    },
    "papermill": {
     "duration": 0.022605,
     "end_time": "2024-11-12T10:47:15.965969",
     "exception": false,
     "start_time": "2024-11-12T10:47:15.943364",
     "status": "completed"
    },
    "tags": []
   },
   "outputs": [
    {
     "data": {
      "text/plain": [
       "<tf.Tensor: shape=(3, 3), dtype=int32, numpy=\n",
       "array([[1, 2, 3],\n",
       "       [4, 5, 6],\n",
       "       [7, 8, 9]], dtype=int32)>"
      ]
     },
     "execution_count": 10,
     "metadata": {},
     "output_type": "execute_result"
    }
   ],
   "source": [
    "tf.random.shuffle(metrix, seed=42)"
   ]
  },
  {
   "cell_type": "markdown",
   "id": "12383e26",
   "metadata": {
    "papermill": {
     "duration": 0.008963,
     "end_time": "2024-11-12T10:47:15.984391",
     "exception": false,
     "start_time": "2024-11-12T10:47:15.975428",
     "status": "completed"
    },
    "tags": []
   },
   "source": [
    "**Using `tf.ones`**:\n",
    "   - We create a 3x5 tensor filled with ones.\n",
    "   - The data type is set to `int8`, showing that we can specify the type of the tensor elements.\n"
   ]
  },
  {
   "cell_type": "code",
   "execution_count": 11,
   "id": "ca2dac53",
   "metadata": {
    "execution": {
     "iopub.execute_input": "2024-11-12T10:47:16.006214Z",
     "iopub.status.busy": "2024-11-12T10:47:16.005136Z",
     "iopub.status.idle": "2024-11-12T10:47:16.018417Z",
     "shell.execute_reply": "2024-11-12T10:47:16.017045Z"
    },
    "papermill": {
     "duration": 0.027048,
     "end_time": "2024-11-12T10:47:16.021311",
     "exception": false,
     "start_time": "2024-11-12T10:47:15.994263",
     "status": "completed"
    },
    "tags": []
   },
   "outputs": [
    {
     "data": {
      "text/plain": [
       "<tf.Tensor: shape=(3, 5), dtype=int8, numpy=\n",
       "array([[1, 1, 1, 1, 1],\n",
       "       [1, 1, 1, 1, 1],\n",
       "       [1, 1, 1, 1, 1]], dtype=int8)>"
      ]
     },
     "execution_count": 11,
     "metadata": {},
     "output_type": "execute_result"
    }
   ],
   "source": [
    "tf.ones(shape=(3, 5), dtype=tf.int8)"
   ]
  },
  {
   "cell_type": "markdown",
   "id": "525e663a",
   "metadata": {
    "papermill": {
     "duration": 0.009751,
     "end_time": "2024-11-12T10:47:16.040875",
     "exception": false,
     "start_time": "2024-11-12T10:47:16.031124",
     "status": "completed"
    },
    "tags": []
   },
   "source": [
    "**Using `tf.zeros`**:\n",
    "   - We create a 3x3 tensor filled with zeros.\n",
    "   - The default data type here is `float32`."
   ]
  },
  {
   "cell_type": "code",
   "execution_count": 12,
   "id": "32de57d7",
   "metadata": {
    "execution": {
     "iopub.execute_input": "2024-11-12T10:47:16.062344Z",
     "iopub.status.busy": "2024-11-12T10:47:16.061883Z",
     "iopub.status.idle": "2024-11-12T10:47:16.074999Z",
     "shell.execute_reply": "2024-11-12T10:47:16.073779Z"
    },
    "papermill": {
     "duration": 0.026702,
     "end_time": "2024-11-12T10:47:16.077403",
     "exception": false,
     "start_time": "2024-11-12T10:47:16.050701",
     "status": "completed"
    },
    "tags": []
   },
   "outputs": [
    {
     "data": {
      "text/plain": [
       "<tf.Tensor: shape=(3, 3), dtype=float32, numpy=\n",
       "array([[0., 0., 0.],\n",
       "       [0., 0., 0.],\n",
       "       [0., 0., 0.]], dtype=float32)>"
      ]
     },
     "execution_count": 12,
     "metadata": {},
     "output_type": "execute_result"
    }
   ],
   "source": [
    "tf.zeros(shape=(3, 3))"
   ]
  },
  {
   "cell_type": "markdown",
   "id": "598d003d",
   "metadata": {
    "papermill": {
     "duration": 0.00929,
     "end_time": "2024-11-12T10:47:16.096605",
     "exception": false,
     "start_time": "2024-11-12T10:47:16.087315",
     "status": "completed"
    },
    "tags": []
   },
   "source": [
    "### 🔄 Adding Dimensions to Tensors\n",
    "\n",
    "In this cell, we demonstrate three different ways to add a new dimension to the `tensor`:\n",
    "\n",
    "1. **Using `tf.newaxis` in indexing**:\n",
    "   - We add a new axis at the last position, increasing the tensor's dimensionality.\n",
    "\n",
    "2. **Using `tf.newaxis` within specific positions**:\n",
    "   - By inserting `tf.newaxis` between dimensions, we control exactly where the new axis is added.\n",
    "\n",
    "3. **Using `tf.expand_dims`**:\n",
    "   - This function allows us to add a new dimension at the specified `axis` position, providing a flexible way to reshape tensors.\n",
    "\n",
    "These techniques are essential for manipulating tensor shapes to make them compatible with various machine learning models. 📏\n"
   ]
  },
  {
   "cell_type": "code",
   "execution_count": 13,
   "id": "47310152",
   "metadata": {
    "execution": {
     "iopub.execute_input": "2024-11-12T10:47:16.118268Z",
     "iopub.status.busy": "2024-11-12T10:47:16.117250Z",
     "iopub.status.idle": "2024-11-12T10:47:16.128816Z",
     "shell.execute_reply": "2024-11-12T10:47:16.127671Z"
    },
    "papermill": {
     "duration": 0.025319,
     "end_time": "2024-11-12T10:47:16.131489",
     "exception": false,
     "start_time": "2024-11-12T10:47:16.106170",
     "status": "completed"
    },
    "tags": []
   },
   "outputs": [
    {
     "name": "stdout",
     "output_type": "stream",
     "text": [
      "(3, 2, 3, 1)\n",
      "(3, 2, 1, 3)\n",
      "(3, 2, 1, 3)\n"
     ]
    }
   ],
   "source": [
    "print(tensor[..., tf.newaxis].shape)\n",
    "print(tensor[:, :, tf.newaxis, :].shape)\n",
    "print(tf.expand_dims(tensor, axis=2).shape)"
   ]
  },
  {
   "cell_type": "markdown",
   "id": "d8a7603d",
   "metadata": {
    "papermill": {
     "duration": 0.009365,
     "end_time": "2024-11-12T10:47:16.151098",
     "exception": false,
     "start_time": "2024-11-12T10:47:16.141733",
     "status": "completed"
    },
    "tags": []
   },
   "source": [
    "### ➕ Basic Arithmetic Operations on Tensors\n",
    "\n",
    "In this cell, we perform various mathematical operations on the tensor `a`:\n",
    "\n",
    "1. **Addition with `tf.add`**:\n",
    "   - We add `a` to itself, resulting in each element being doubled.\n",
    "\n",
    "2. **Subtraction with `tf.subtract`**:\n",
    "   - We subtract `a` from itself, which results in a tensor of zeros.\n",
    "\n",
    "3. **Multiplication with `tf.multiply`**:\n",
    "   - We multiply `a` by itself, squaring each element.\n",
    "\n",
    "These operations demonstrate how to perform basic arithmetic in TensorFlow, which is essential for data processing and machine learning tasks. 🔢\n"
   ]
  },
  {
   "cell_type": "code",
   "execution_count": 14,
   "id": "923f51d4",
   "metadata": {
    "execution": {
     "iopub.execute_input": "2024-11-12T10:47:16.173356Z",
     "iopub.status.busy": "2024-11-12T10:47:16.172899Z",
     "iopub.status.idle": "2024-11-12T10:47:16.189296Z",
     "shell.execute_reply": "2024-11-12T10:47:16.188098Z"
    },
    "papermill": {
     "duration": 0.030184,
     "end_time": "2024-11-12T10:47:16.191863",
     "exception": false,
     "start_time": "2024-11-12T10:47:16.161679",
     "status": "completed"
    },
    "tags": []
   },
   "outputs": [
    {
     "name": "stdout",
     "output_type": "stream",
     "text": [
      "[[ 2  4]\n",
      " [ 6  8]\n",
      " [10 12]]\n",
      "[[0 0]\n",
      " [0 0]\n",
      " [0 0]]\n",
      "[[ 1  4]\n",
      " [ 9 16]\n",
      " [25 36]]\n"
     ]
    }
   ],
   "source": [
    "a = tf.constant([[1, 2],\n",
    "                 [3, 4],\n",
    "                 [5, 6]])\n",
    "\n",
    "print(tf.add(a, a).numpy())\n",
    "print(tf.subtract(a, a).numpy())\n",
    "print(tf.multiply(a, a).numpy())"
   ]
  },
  {
   "cell_type": "markdown",
   "id": "330fc1f8",
   "metadata": {
    "papermill": {
     "duration": 0.009313,
     "end_time": "2024-11-12T10:47:16.211151",
     "exception": false,
     "start_time": "2024-11-12T10:47:16.201838",
     "status": "completed"
    },
    "tags": []
   },
   "source": [
    "### 🔄 Reshaping and Transposing Tensors\n",
    "\n",
    "In this cell, we apply reshaping and transposing operations on the tensor `a`:\n",
    "\n",
    "1. **Reshape with `tf.reshape`**:\n",
    "   - We reshape `a` to a new shape (2, 3). This changes the organization of elements without altering the data.\n",
    "\n",
    "2. **Transpose with `tf.transpose`**:\n",
    "   - We transpose `a`, swapping rows and columns, which is useful for adjusting data orientation.\n",
    "\n",
    "These operations are essential for organizing data in the right format, especially for feeding it into machine learning models. 📐"
   ]
  },
  {
   "cell_type": "code",
   "execution_count": 15,
   "id": "3632d205",
   "metadata": {
    "execution": {
     "iopub.execute_input": "2024-11-12T10:47:16.232378Z",
     "iopub.status.busy": "2024-11-12T10:47:16.231928Z",
     "iopub.status.idle": "2024-11-12T10:47:16.245776Z",
     "shell.execute_reply": "2024-11-12T10:47:16.244490Z"
    },
    "papermill": {
     "duration": 0.027246,
     "end_time": "2024-11-12T10:47:16.248315",
     "exception": false,
     "start_time": "2024-11-12T10:47:16.221069",
     "status": "completed"
    },
    "tags": []
   },
   "outputs": [
    {
     "data": {
      "text/plain": [
       "(<tf.Tensor: shape=(3, 2), dtype=int32, numpy=\n",
       " array([[1, 2],\n",
       "        [3, 4],\n",
       "        [5, 6]], dtype=int32)>,\n",
       " <tf.Tensor: shape=(2, 3), dtype=int32, numpy=\n",
       " array([[1, 2, 3],\n",
       "        [4, 5, 6]], dtype=int32)>,\n",
       " <tf.Tensor: shape=(2, 3), dtype=int32, numpy=\n",
       " array([[1, 3, 5],\n",
       "        [2, 4, 6]], dtype=int32)>)"
      ]
     },
     "execution_count": 15,
     "metadata": {},
     "output_type": "execute_result"
    }
   ],
   "source": [
    "a, tf.reshape(a, (2, 3)), tf.transpose(a)"
   ]
  },
  {
   "cell_type": "markdown",
   "id": "3e831f4d",
   "metadata": {
    "papermill": {
     "duration": 0.009473,
     "end_time": "2024-11-12T10:47:16.268194",
     "exception": false,
     "start_time": "2024-11-12T10:47:16.258721",
     "status": "completed"
    },
    "tags": []
   },
   "source": [
    "### 🔗 Matrix Multiplication with Different Methods\r\n",
    "\r\n",
    "In this cell, we perform matrix multiplication between `a` and its transpose using three different methods:\r\n",
    "\r\n",
    "1. **Using `tf.matmul`**:\r\n",
    "   - This is the standard method for matrix multiplication in TensorFlow.\r\n",
    "\r\n",
    "2. **Using the `@` operator**:\r\n",
    "   - A shorthand syntax for matrix multiplication, making the code more concise.\r\n",
    "\r\n",
    "3. **Using `tf.tensordot`**:\r\n",
    "   - By setting `axes=1`, we achieve matrix multiplication. This function is more versatile and can be used for dot products along specific axes.\r\n",
    "\r\n",
    "All three methods provide the same result, and you can choose one based on readability or specific needs. 📊\r\n",
    "\r\n"
   ]
  },
  {
   "cell_type": "code",
   "execution_count": 16,
   "id": "75a49320",
   "metadata": {
    "execution": {
     "iopub.execute_input": "2024-11-12T10:47:16.290736Z",
     "iopub.status.busy": "2024-11-12T10:47:16.290277Z",
     "iopub.status.idle": "2024-11-12T10:47:16.304952Z",
     "shell.execute_reply": "2024-11-12T10:47:16.303774Z"
    },
    "papermill": {
     "duration": 0.028389,
     "end_time": "2024-11-12T10:47:16.307424",
     "exception": false,
     "start_time": "2024-11-12T10:47:16.279035",
     "status": "completed"
    },
    "tags": []
   },
   "outputs": [
    {
     "data": {
      "text/plain": [
       "(<tf.Tensor: shape=(3, 3), dtype=int32, numpy=\n",
       " array([[ 5, 11, 17],\n",
       "        [11, 25, 39],\n",
       "        [17, 39, 61]], dtype=int32)>,\n",
       " <tf.Tensor: shape=(3, 3), dtype=int32, numpy=\n",
       " array([[ 5, 11, 17],\n",
       "        [11, 25, 39],\n",
       "        [17, 39, 61]], dtype=int32)>,\n",
       " <tf.Tensor: shape=(3, 3), dtype=int32, numpy=\n",
       " array([[ 5, 11, 17],\n",
       "        [11, 25, 39],\n",
       "        [17, 39, 61]], dtype=int32)>)"
      ]
     },
     "execution_count": 16,
     "metadata": {},
     "output_type": "execute_result"
    }
   ],
   "source": [
    "tf.matmul(a, tf.transpose(a)),\\\n",
    "a @ tf.transpose(a), \\\n",
    "tf.tensordot(a, tf.transpose(a), axes=1)\n"
   ]
  },
  {
   "cell_type": "markdown",
   "id": "400b0e87",
   "metadata": {
    "papermill": {
     "duration": 0.010094,
     "end_time": "2024-11-12T10:47:16.328044",
     "exception": false,
     "start_time": "2024-11-12T10:47:16.317950",
     "status": "completed"
    },
    "tags": []
   },
   "source": [
    "### 📊 Basic Statistical and Mathematical Operations on Tensors\r\n",
    "\r\n",
    "In this cell, we perform various statistical and mathematical operations on the tensor `a`:\r\n",
    "\r\n",
    "1. **Mean (`tf.reduce_mean`)**: Calculates the average of all elements.\r\n",
    "2. **Max & Min (`tf.reduce_max` & `tf.reduce_min`)**: Finds the maximum and minimum values.\r\n",
    "3. **Sum (`tf.reduce_sum`)**: Computes the sum of all elements.\r\n",
    "4. **Standard Deviation (`tf.math.reduce_std`)**: Calculates the standard deviation (casting to `float16` for precision).\r\n",
    "5. **Square (`tf.square`)**: Squares each element in the tensor.\r\n",
    "6. **Square Root (`tf.sqrt`)**: Computes the square root of each element (casting to `float16` for compatibility).\r\n",
    "\r\n",
    "These functions help us derive essential statistics and perform fundamental operations on tensor data. 🧮\r\n",
    "\r\n"
   ]
  },
  {
   "cell_type": "code",
   "execution_count": 17,
   "id": "b59275c0",
   "metadata": {
    "execution": {
     "iopub.execute_input": "2024-11-12T10:47:16.351262Z",
     "iopub.status.busy": "2024-11-12T10:47:16.350861Z",
     "iopub.status.idle": "2024-11-12T10:47:16.383295Z",
     "shell.execute_reply": "2024-11-12T10:47:16.381966Z"
    },
    "papermill": {
     "duration": 0.047591,
     "end_time": "2024-11-12T10:47:16.386297",
     "exception": false,
     "start_time": "2024-11-12T10:47:16.338706",
     "status": "completed"
    },
    "tags": []
   },
   "outputs": [
    {
     "name": "stdout",
     "output_type": "stream",
     "text": [
      "mean : 3\n",
      "max : 6\n",
      "min : 1\n",
      "sum : 21\n",
      "std : 1.7080078125\n",
      "square : [[ 1  4]\n",
      " [ 9 16]\n",
      " [25 36]]\n",
      "sqrt : [[1.    1.414]\n",
      " [1.732 2.   ]\n",
      " [2.236 2.45 ]]\n"
     ]
    }
   ],
   "source": [
    "print(f'mean : {tf.reduce_mean(a).numpy()}')\n",
    "print(f'max : {tf.reduce_max(a).numpy()}')\n",
    "print(f'min : {tf.reduce_min(a).numpy()}')\n",
    "print(f'sum : {tf.reduce_sum(a).numpy()}')\n",
    "print(f'std : {tf.math.reduce_std(tf.cast(a, tf.float16)).numpy()}')\n",
    "print(f'square : {tf.square(a).numpy()}')\n",
    "print(f'sqrt : {tf.sqrt(tf.cast(a, tf.float16)).numpy()}')"
   ]
  },
  {
   "cell_type": "markdown",
   "id": "bdd11690",
   "metadata": {
    "papermill": {
     "duration": 0.010495,
     "end_time": "2024-11-12T10:47:16.406945",
     "exception": false,
     "start_time": "2024-11-12T10:47:16.396450",
     "status": "completed"
    },
    "tags": []
   },
   "source": [
    "### 🔄 Casting Tensor Data Type\r\n",
    "\r\n",
    "In this cell, we create a 3x3 tensor of ones using `tf.ones` and then cast its data type to `float16` using `tf.cast`. Changing the data type can be useful for compatibility with specific models or operations that require a certain precision level. 🎯\r\n",
    "\r\n"
   ]
  },
  {
   "cell_type": "code",
   "execution_count": 18,
   "id": "6f9c4069",
   "metadata": {
    "execution": {
     "iopub.execute_input": "2024-11-12T10:47:16.428987Z",
     "iopub.status.busy": "2024-11-12T10:47:16.428526Z",
     "iopub.status.idle": "2024-11-12T10:47:16.438522Z",
     "shell.execute_reply": "2024-11-12T10:47:16.437366Z"
    },
    "papermill": {
     "duration": 0.023889,
     "end_time": "2024-11-12T10:47:16.440991",
     "exception": false,
     "start_time": "2024-11-12T10:47:16.417102",
     "status": "completed"
    },
    "tags": []
   },
   "outputs": [
    {
     "data": {
      "text/plain": [
       "<tf.Tensor: shape=(3, 3), dtype=float16, numpy=\n",
       "array([[1., 1., 1.],\n",
       "       [1., 1., 1.],\n",
       "       [1., 1., 1.]], dtype=float16)>"
      ]
     },
     "execution_count": 18,
     "metadata": {},
     "output_type": "execute_result"
    }
   ],
   "source": [
    "one = tf.ones((3,3))\n",
    "tf.cast(one, dtype=tf.float16)"
   ]
  },
  {
   "cell_type": "markdown",
   "id": "0ba700bb",
   "metadata": {
    "papermill": {
     "duration": 0.009911,
     "end_time": "2024-11-12T10:47:16.461372",
     "exception": false,
     "start_time": "2024-11-12T10:47:16.451461",
     "status": "completed"
    },
    "tags": []
   },
   "source": [
    "### 📏 Squeezing Tensor Dimensions\r\n",
    "\r\n",
    "Here, we create a multi-dimensional random tensor with the shape `(2,1,2,3,1,1,3,1)` using `tf.random.uniform`. Then, we use `tf.squeeze` to remove all singleton dimensions (dimensions with size 1). This operation simplifies the tensor's shape, making it easier to work with. 🎈\r\n",
    "\r\n"
   ]
  },
  {
   "cell_type": "code",
   "execution_count": 19,
   "id": "b361de67",
   "metadata": {
    "execution": {
     "iopub.execute_input": "2024-11-12T10:47:16.484271Z",
     "iopub.status.busy": "2024-11-12T10:47:16.483839Z",
     "iopub.status.idle": "2024-11-12T10:47:16.496348Z",
     "shell.execute_reply": "2024-11-12T10:47:16.495215Z"
    },
    "papermill": {
     "duration": 0.026586,
     "end_time": "2024-11-12T10:47:16.498862",
     "exception": false,
     "start_time": "2024-11-12T10:47:16.472276",
     "status": "completed"
    },
    "tags": []
   },
   "outputs": [
    {
     "data": {
      "text/plain": [
       "TensorShape([2, 2, 3, 3])"
      ]
     },
     "execution_count": 19,
     "metadata": {},
     "output_type": "execute_result"
    }
   ],
   "source": [
    "t = tf.random.uniform(shape=(2,1,2,3,1,1,3,1))\n",
    "tf.squeeze(t).shape"
   ]
  },
  {
   "cell_type": "markdown",
   "id": "b18258aa",
   "metadata": {
    "papermill": {
     "duration": 0.010517,
     "end_time": "2024-11-12T10:47:16.521678",
     "exception": false,
     "start_time": "2024-11-12T10:47:16.511161",
     "status": "completed"
    },
    "tags": []
   },
   "source": [
    "### 🔢 One-Hot Encoding with Custom Values\r\n",
    "\r\n",
    "In this cell, we use `tf.one_hot` to perform one-hot encoding on a list `[1, 2, 1]`:\r\n",
    "\r\n",
    "- **`depth=5`**: Specifies that each one-hot vector will have 5 elements.\r\n",
    "- **`on_value=5`**: Sets the value for active (hot) positions to 5.\r\n",
    "- **`off_value=0`**: Sets the value for inactive (cold) positions to 0.\r\n",
    "\r\n",
    "One-hot encoding is commonly used for categorical data representation. This custom one-hot encoding allows for flexibility in choosing on/off values. 🌟\r\n",
    "\r\n"
   ]
  },
  {
   "cell_type": "code",
   "execution_count": 20,
   "id": "f1fb84c7",
   "metadata": {
    "execution": {
     "iopub.execute_input": "2024-11-12T10:47:16.544555Z",
     "iopub.status.busy": "2024-11-12T10:47:16.544139Z",
     "iopub.status.idle": "2024-11-12T10:47:16.556337Z",
     "shell.execute_reply": "2024-11-12T10:47:16.555210Z"
    },
    "papermill": {
     "duration": 0.026986,
     "end_time": "2024-11-12T10:47:16.559090",
     "exception": false,
     "start_time": "2024-11-12T10:47:16.532104",
     "status": "completed"
    },
    "tags": []
   },
   "outputs": [
    {
     "data": {
      "text/plain": [
       "<tf.Tensor: shape=(3, 5), dtype=int32, numpy=\n",
       "array([[0, 5, 0, 0, 0],\n",
       "       [0, 0, 5, 0, 0],\n",
       "       [0, 5, 0, 0, 0]], dtype=int32)>"
      ]
     },
     "execution_count": 20,
     "metadata": {},
     "output_type": "execute_result"
    }
   ],
   "source": [
    "tf.one_hot([1, 2, 1], depth=5, on_value=5, off_value=0)"
   ]
  },
  {
   "cell_type": "markdown",
   "id": "6e1172f1",
   "metadata": {
    "papermill": {
     "duration": 0.010052,
     "end_time": "2024-11-12T10:47:16.579819",
     "exception": false,
     "start_time": "2024-11-12T10:47:16.569767",
     "status": "completed"
    },
    "tags": []
   },
   "source": [
    "### 🚀 This Notebook Will Be Updated! \r\n",
    "\r\n",
    "This is just the beginning! Stay tuned for updates as we dive deeper into TensorFlow and explore more advanced techniques. \r\n",
    "\r\n",
    "If you found this notebook helpful (or even mildly entertaining 😉), please don't forget to give it an upvote! 👍\r\n",
    "\r\n",
    "Happy coding, and remember – we're all just tensors trying to find our way in the vast matrix of life! 😄\r\n",
    "\r\n"
   ]
  },
  {
   "cell_type": "code",
   "execution_count": null,
   "id": "e9a07232",
   "metadata": {
    "papermill": {
     "duration": 0.010132,
     "end_time": "2024-11-12T10:47:16.600539",
     "exception": false,
     "start_time": "2024-11-12T10:47:16.590407",
     "status": "completed"
    },
    "tags": []
   },
   "outputs": [],
   "source": []
  }
 ],
 "metadata": {
  "kaggle": {
   "accelerator": "none",
   "dataSources": [],
   "dockerImageVersionId": 30786,
   "isGpuEnabled": false,
   "isInternetEnabled": true,
   "language": "python",
   "sourceType": "notebook"
  },
  "kernelspec": {
   "display_name": "Python 3",
   "language": "python",
   "name": "python3"
  },
  "language_info": {
   "codemirror_mode": {
    "name": "ipython",
    "version": 3
   },
   "file_extension": ".py",
   "mimetype": "text/x-python",
   "name": "python",
   "nbconvert_exporter": "python",
   "pygments_lexer": "ipython3",
   "version": "3.10.14"
  },
  "papermill": {
   "default_parameters": {},
   "duration": 21.523868,
   "end_time": "2024-11-12T10:47:18.996182",
   "environment_variables": {},
   "exception": null,
   "input_path": "__notebook__.ipynb",
   "output_path": "__notebook__.ipynb",
   "parameters": {},
   "start_time": "2024-11-12T10:46:57.472314",
   "version": "2.6.0"
  }
 },
 "nbformat": 4,
 "nbformat_minor": 5
}
